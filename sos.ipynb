{
 "cells": [
  {
   "cell_type": "markdown",
   "id": "04b633d8",
   "metadata": {
    "kernel": "ssh"
   },
   "source": [
    "# Experiment 1"
   ]
  },
  {
   "cell_type": "code",
   "execution_count": 2,
   "id": "0c06dca1",
   "metadata": {
    "kernel": "Bash"
   },
   "outputs": [
    {
     "name": "stdout",
     "output_type": "stream",
     "text": [
      "AMAC02ZK457LVDL\n"
     ]
    }
   ],
   "source": [
    "hostname"
   ]
  },
  {
   "cell_type": "code",
   "execution_count": 3,
   "id": "33ff095a",
   "metadata": {
    "kernel": "ssh"
   },
   "outputs": [
    {
     "name": "stdout",
     "output_type": "stream",
     "text": [
      "[ssh] Login to u1...\n",
      "[ssh] host=u1 hostname=u1.skweg24.chtw.de other_conf={'user': 'trautw', 'port': 22, 'keyfile': ['/Users/c.trautwein/.ssh/identity'], 'load_system_ssh_config': False, 'missing_host_policy': <paramiko.client.WarningPolicy object at 0x111140400>}\n",
      "[ssh] forwarding local agent\n",
      "[ssh] Successfully logged in.\n"
     ]
    }
   ],
   "source": [
    "%login u1"
   ]
  },
  {
   "cell_type": "code",
   "execution_count": 4,
   "id": "72658ae8",
   "metadata": {
    "kernel": "ssh",
    "scrolled": false
   },
   "outputs": [
    {
     "name": "stdout",
     "output_type": "stream",
     "text": [
      "[ssh] host = u1, cwd = /home/trautw\n",
      "u1\n"
     ]
    }
   ],
   "source": [
    "hostname"
   ]
  },
  {
   "cell_type": "code",
   "execution_count": 7,
   "id": "0951275c",
   "metadata": {
    "kernel": "Bash",
    "scrolled": true
   },
   "outputs": [
    {
     "name": "stdout",
     "output_type": "stream",
     "text": [
      "On branch main\n",
      "Your branch is up to date with 'origin/main'.\n",
      "\n",
      "Changes not staged for commit:\n",
      "  (use \"git add <file>...\" to update what will be committed)\n",
      "  (use \"git restore <file>...\" to discard changes in working directory)\n",
      "\t\u001b[31mmodified:   sos.ipynb\u001b[m\n",
      "\n",
      "Untracked files:\n",
      "  (use \"git add <file>...\" to include in what will be committed)\n",
      "\t\u001b[31m.ipynb_checkpoints/\u001b[m\n",
      "\n",
      "no changes added to commit (use \"git add\" and/or \"git commit -a\")\n"
     ]
    }
   ],
   "source": [
    "git status"
   ]
  },
  {
   "cell_type": "code",
   "execution_count": 8,
   "id": "36acc0a3",
   "metadata": {
    "kernel": "Bash"
   },
   "outputs": [],
   "source": [
    "git add -A"
   ]
  },
  {
   "cell_type": "code",
   "execution_count": 9,
   "id": "5b778352",
   "metadata": {
    "kernel": "Bash"
   },
   "outputs": [
    {
     "name": "stdout",
     "output_type": "stream",
     "text": [
      "Python Validation Successful\n",
      "[WARN] Non-allowed remote URL in the repo: git@github.com:trautw/notebooks.git\n",
      "cwd /Users/c.trautwein/Projekte/notebooks\n",
      "config_ini_file /Users/c.trautwein/.acn-security-tools/config/private/private_secrets_dictionary.ini\n",
      "[main ef8c863] .\n",
      " 2 files changed, 135 insertions(+), 37 deletions(-)\n",
      " create mode 100644 .ipynb_checkpoints/sos-checkpoint.ipynb\n"
     ]
    }
   ],
   "source": [
    "git commit -m \".\""
   ]
  },
  {
   "cell_type": "code",
   "execution_count": null,
   "id": "c765b0c8",
   "metadata": {
    "kernel": "Bash"
   },
   "outputs": [],
   "source": []
  }
 ],
 "metadata": {
  "kernelspec": {
   "display_name": "SoS",
   "language": "sos",
   "name": "sos"
  },
  "language_info": {
   "codemirror_mode": "sos",
   "file_extension": ".sos",
   "mimetype": "text/x-sos",
   "name": "sos",
   "nbconvert_exporter": "sos_notebook.converter.SoS_Exporter",
   "pygments_lexer": "sos"
  },
  "sos": {
   "kernels": [
    [
     "Bash",
     "bash",
     "Bash",
     "#E6EEFF",
     "shell"
    ],
    [
     "ssh",
     "ssh",
     "Bash",
     "#E6EEFF",
     "shell"
    ]
   ],
   "panel": {
    "displayed": true,
    "height": 0
   },
   "version": "0.23.3"
  }
 },
 "nbformat": 4,
 "nbformat_minor": 5
}
