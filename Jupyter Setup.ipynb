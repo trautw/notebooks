{
 "cells": [
  {
   "cell_type": "markdown",
   "id": "04b633d8",
   "metadata": {
    "kernel": "ssh"
   },
   "source": [
    "# Jupyter Setup"
   ]
  },
  {
   "cell_type": "markdown",
   "id": "4fddd46c",
   "metadata": {
    "kernel": "SoS"
   },
   "source": [
    "## Initial Setup In Shell"
   ]
  },
  {
   "attachments": {},
   "cell_type": "markdown",
   "id": "8f5c21a2",
   "metadata": {
    "kernel": "Bash"
   },
   "source": [
    "````\n",
    "git clone git@github.com:trautw/notebooks.git\n",
    "cd notebooks\n",
    "pip3 install jupyter\n",
    "pip3 install bash_kernel\n",
    "python3 -m bash_kernel.install\n",
    "pip3 install sos\n",
    "pip3 install sos-pbd\n",
    "pip3 install sos-notebook\n",
    "pip3 install jupyter_contrib_core\n",
    "python3 -m sos_notebook.install\n",
    "pip3 install sos-r sos-matlab sos-python sos-bash\n",
    "jupyter notebook\n",
    "````"
   ]
  },
  {
   "cell_type": "markdown",
   "id": "e1c062ef",
   "metadata": {
    "kernel": "Bash"
   },
   "source": [
    "## In Browser\n",
    "\n",
    "Open http://localhost:8888/notebooks/Jupyter%20Setup.ipynb#Jupyter-Setup"
   ]
  }
 ],
 "metadata": {
  "kernelspec": {
   "display_name": "SoS",
   "language": "sos",
   "name": "sos"
  },
  "language_info": {
   "codemirror_mode": "sos",
   "file_extension": ".sos",
   "mimetype": "text/x-sos",
   "name": "sos",
   "nbconvert_exporter": "sos_notebook.converter.SoS_Exporter",
   "pygments_lexer": "sos"
  },
  "sos": {
   "kernels": [
    [
     "Bash",
     "bash",
     "Bash",
     "#E6EEFF",
     "shell"
    ],
    [
     "ssh",
     "ssh",
     "Bash",
     "#E6EEFF",
     "shell"
    ]
   ],
   "panel": {
    "displayed": true,
    "height": 0
   },
   "version": "0.23.3"
  }
 },
 "nbformat": 4,
 "nbformat_minor": 5
}
