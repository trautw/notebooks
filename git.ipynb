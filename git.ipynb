{
 "cells": [
  {
   "cell_type": "markdown",
   "id": "1fb4b7b9",
   "metadata": {},
   "source": [
    "# Git"
   ]
  },
  {
   "cell_type": "code",
   "execution_count": 3,
   "id": "0b176cf8",
   "metadata": {},
   "outputs": [],
   "source": [
    "COMMIT_MESSAGE=\"commit `date`\""
   ]
  },
  {
   "cell_type": "markdown",
   "id": "c8cbb3ab",
   "metadata": {},
   "source": [
    "## Status"
   ]
  },
  {
   "cell_type": "code",
   "execution_count": 4,
   "id": "5649739b",
   "metadata": {
    "scrolled": false
   },
   "outputs": [
    {
     "name": "stdout",
     "output_type": "stream",
     "text": [
      "On branch main\n",
      "Your branch is up to date with 'origin/main'.\n",
      "\n",
      "Changes not staged for commit:\n",
      "  (use \"git add <file>...\" to update what will be committed)\n",
      "  (use \"git restore <file>...\" to discard changes in working directory)\n",
      "\t\u001b[31mmodified:   git.ipynb\u001b[m\n",
      "\n",
      "Untracked files:\n",
      "  (use \"git add <file>...\" to include in what will be committed)\n",
      "\t\u001b[31m.ipynb_checkpoints/Git2-checkpoint.ipynb\u001b[m\n",
      "\t\u001b[31m.ipynb_checkpoints/IDE-checkpoint.ipynb\u001b[m\n",
      "\t\u001b[31mGit2.ipynb\u001b[m\n",
      "\t\u001b[31mIDE.ipynb\u001b[m\n",
      "\n",
      "no changes added to commit (use \"git add\" and/or \"git commit -a\")\n"
     ]
    }
   ],
   "source": [
    "git status"
   ]
  },
  {
   "cell_type": "markdown",
   "id": "42c3cc0c",
   "metadata": {},
   "source": [
    "## Commit All"
   ]
  },
  {
   "cell_type": "code",
   "execution_count": 5,
   "id": "6a166da8",
   "metadata": {},
   "outputs": [
    {
     "name": "stdout",
     "output_type": "stream",
     "text": [
      "Python Validation Successful\n",
      "[WARN] Non-allowed remote URL in the repo: git@github.com:trautw/notebooks.git\n",
      "cwd /Users/c.trautwein/Projekte/notebooks\n",
      "config_ini_file /Users/c.trautwein/.acn-security-tools/config/private/private_secrets_dictionary.ini\n",
      "[main af8a2b1] commit Fr 17 Jun 2022 11:53:33 CEST\n",
      " 5 files changed, 363 insertions(+), 13 deletions(-)\n",
      " create mode 100644 .ipynb_checkpoints/Git2-checkpoint.ipynb\n",
      " create mode 100644 .ipynb_checkpoints/IDE-checkpoint.ipynb\n",
      " create mode 100644 Git2.ipynb\n",
      " create mode 100644 IDE.ipynb\n",
      "Enumerating objects: 9, done.\n",
      "Counting objects: 100% (9/9), done.\n",
      "Delta compression using up to 8 threads\n",
      "Compressing objects: 100% (6/6), done.\n",
      "Writing objects: 100% (6/6), 2.04 KiB | 2.04 MiB/s, done.\n",
      "Total 6 (delta 1), reused 0 (delta 0), pack-reused 0\n",
      "remote: Resolving deltas: 100% (1/1), completed with 1 local object.\u001b[K\n",
      "To github.com:trautw/notebooks.git\n",
      "   a7351f5..af8a2b1  main -> main\n"
     ]
    }
   ],
   "source": [
    "git add -A\n",
    "git commit -m \"$COMMIT_MESSAGE\"\n",
    "git push"
   ]
  },
  {
   "cell_type": "code",
   "execution_count": null,
   "id": "b309a4b9",
   "metadata": {},
   "outputs": [],
   "source": []
  }
 ],
 "metadata": {
  "kernelspec": {
   "display_name": "Bash",
   "language": "bash",
   "name": "bash"
  },
  "language_info": {
   "codemirror_mode": "shell",
   "file_extension": ".sh",
   "mimetype": "text/x-sh",
   "name": "bash"
  }
 },
 "nbformat": 4,
 "nbformat_minor": 5
}
