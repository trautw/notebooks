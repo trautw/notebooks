{
 "cells": [
  {
   "cell_type": "markdown",
   "id": "1fb4b7b9",
   "metadata": {},
   "source": [
    "# Git"
   ]
  },
  {
   "cell_type": "code",
   "execution_count": 1,
   "id": "0b176cf8",
   "metadata": {},
   "outputs": [],
   "source": [
    "COMMIT_MESSAGE=\"commit `date`\""
   ]
  },
  {
   "cell_type": "markdown",
   "id": "c8cbb3ab",
   "metadata": {},
   "source": [
    "## Status"
   ]
  },
  {
   "cell_type": "code",
   "execution_count": 2,
   "id": "5649739b",
   "metadata": {
    "scrolled": false
   },
   "outputs": [
    {
     "name": "stdout",
     "output_type": "stream",
     "text": [
      "On branch main\n",
      "Your branch is up to date with 'origin/main'.\n",
      "\n",
      "Changes not staged for commit:\n",
      "  (use \"git add/rm <file>...\" to update what will be committed)\n",
      "  (use \"git restore <file>...\" to discard changes in working directory)\n",
      "\t\u001b[31mdeleted:    .ipynb_checkpoints/Git2-checkpoint.ipynb\u001b[m\n",
      "\t\u001b[31mmodified:   .ipynb_checkpoints/git-checkpoint.ipynb\u001b[m\n",
      "\t\u001b[31mdeleted:    Git2.ipynb\u001b[m\n",
      "\t\u001b[31mmodified:   git.ipynb\u001b[m\n",
      "\n",
      "Untracked files:\n",
      "  (use \"git add <file>...\" to include in what will be committed)\n",
      "\t\u001b[31m.ipynb_checkpoints/tflite_sinewave_training-checkpoint.ipynb\u001b[m\n",
      "\t\u001b[31msine_model.h\u001b[m\n",
      "\t\u001b[31msine_model.tflite\u001b[m\n",
      "\t\u001b[31mtflite_sinewave_training.ipynb\u001b[m\n",
      "\n",
      "no changes added to commit (use \"git add\" and/or \"git commit -a\")\n"
     ]
    }
   ],
   "source": [
    "git status"
   ]
  },
  {
   "cell_type": "markdown",
   "id": "42c3cc0c",
   "metadata": {},
   "source": [
    "## Commit All"
   ]
  },
  {
   "cell_type": "code",
   "execution_count": 3,
   "id": "6a166da8",
   "metadata": {},
   "outputs": [
    {
     "name": "stdout",
     "output_type": "stream",
     "text": [
      "Python Validation Successful\n",
      "[WARN] Non-allowed remote URL in the repo: git@github.com:trautw/notebooks.git\n",
      "cwd /Users/c.trautwein/Projekte/notebooks\n",
      "config_ini_file /Users/c.trautwein/.acn-security-tools/config/private/private_secrets_dictionary.ini\n",
      "[WARN] File sine_model.tflite is encoded in an unsupported format and was not checked! utf-8\n",
      "[main 065ee54] commit Fr 17 Jun 2022 14:24:52 CEST\n",
      " 6 files changed, 3587 insertions(+), 12 deletions(-)\n",
      " rename .ipynb_checkpoints/{Git2-checkpoint.ipynb => git-checkpoint.ipynb} (100%)\n",
      " create mode 100644 .ipynb_checkpoints/tflite_sinewave_training-checkpoint.ipynb\n",
      " rename Git2.ipynb => git.ipynb (51%)\n",
      " create mode 100644 sine_model.h\n",
      " create mode 100644 sine_model.tflite\n",
      " create mode 100644 tflite_sinewave_training.ipynb\n",
      "Enumerating objects: 10, done.\n",
      "Counting objects: 100% (10/10), done.\n",
      "Delta compression using up to 8 threads\n",
      "Compressing objects: 100% (7/7), done.\n",
      "Writing objects: 100% (7/7), 110.50 KiB | 1.38 MiB/s, done.\n",
      "Total 7 (delta 2), reused 0 (delta 0), pack-reused 0\n",
      "remote: Resolving deltas: 100% (2/2), completed with 2 local objects.\u001b[K\n",
      "To github.com:trautw/notebooks.git\n",
      "   af8a2b1..065ee54  main -> main\n"
     ]
    }
   ],
   "source": [
    "git add -A\n",
    "git commit -m \"$COMMIT_MESSAGE\"\n",
    "git push"
   ]
  },
  {
   "cell_type": "code",
   "execution_count": null,
   "id": "b309a4b9",
   "metadata": {},
   "outputs": [],
   "source": []
  }
 ],
 "metadata": {
  "kernelspec": {
   "display_name": "Bash",
   "language": "bash",
   "name": "bash"
  },
  "language_info": {
   "codemirror_mode": "shell",
   "file_extension": ".sh",
   "mimetype": "text/x-sh",
   "name": "bash"
  }
 },
 "nbformat": 4,
 "nbformat_minor": 5
}
