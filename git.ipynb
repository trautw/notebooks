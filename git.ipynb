{
 "cells": [
  {
   "cell_type": "markdown",
   "id": "04b633d8",
   "metadata": {
    "kernel": "ssh"
   },
   "source": [
    "# Git"
   ]
  },
  {
   "cell_type": "code",
   "execution_count": 1,
   "id": "0e29f1a1",
   "metadata": {
    "kernel": "Bash"
   },
   "outputs": [],
   "source": [
    "COMMIT_MESSAGE=\"commit `date`\""
   ]
  },
  {
   "cell_type": "code",
   "execution_count": 2,
   "id": "0c06dca1",
   "metadata": {
    "kernel": "Bash"
   },
   "outputs": [
    {
     "name": "stdout",
     "output_type": "stream",
     "text": [
      "AMAC02ZK457LVDL\n"
     ]
    }
   ],
   "source": [
    "hostname"
   ]
  },
  {
   "cell_type": "code",
   "execution_count": 3,
   "id": "33ff095a",
   "metadata": {
    "kernel": "ssh"
   },
   "outputs": [
    {
     "name": "stdout",
     "output_type": "stream",
     "text": [
      "[ssh] Login to u1...\n",
      "[ssh] host=u1 hostname=u1.skweg24.chtw.de other_conf={'user': 'trautw', 'port': 22, 'keyfile': ['/Users/c.trautwein/.ssh/identity'], 'load_system_ssh_config': False, 'missing_host_policy': <paramiko.client.WarningPolicy object at 0x111140400>}\n",
      "[ssh] forwarding local agent\n",
      "[ssh] Successfully logged in.\n"
     ]
    }
   ],
   "source": [
    "%login u1"
   ]
  },
  {
   "cell_type": "code",
   "execution_count": 4,
   "id": "72658ae8",
   "metadata": {
    "kernel": "ssh",
    "scrolled": false
   },
   "outputs": [
    {
     "name": "stdout",
     "output_type": "stream",
     "text": [
      "[ssh] host = u1, cwd = /home/trautw\n",
      "u1\n"
     ]
    }
   ],
   "source": [
    "hostname"
   ]
  },
  {
   "cell_type": "markdown",
   "id": "65d093c2",
   "metadata": {
    "kernel": "ssh"
   },
   "source": [
    "## Status"
   ]
  },
  {
   "cell_type": "code",
   "execution_count": 2,
   "id": "1480fe32",
   "metadata": {
    "kernel": "Bash",
    "scrolled": false
   },
   "outputs": [
    {
     "name": "stdout",
     "output_type": "stream",
     "text": [
      "On branch main\n",
      "Your branch is up to date with 'origin/main'.\n",
      "\n",
      "Changes not staged for commit:\n",
      "  (use \"git add <file>...\" to update what will be committed)\n",
      "  (use \"git restore <file>...\" to discard changes in working directory)\n",
      "\t\u001b[31mmodified:   git.ipynb\u001b[m\n",
      "\n",
      "Untracked files:\n",
      "  (use \"git add <file>...\" to include in what will be committed)\n",
      "\t\u001b[31m.ipynb_checkpoints/Jupyter Setup-checkpoint.ipynb\u001b[m\n",
      "\t\u001b[31mJupyter Setup.ipynb\u001b[m\n",
      "\n",
      "no changes added to commit (use \"git add\" and/or \"git commit -a\")\n"
     ]
    }
   ],
   "source": [
    "git status"
   ]
  },
  {
   "cell_type": "markdown",
   "id": "ffe24bbf",
   "metadata": {
    "kernel": "ssh"
   },
   "source": [
    "## Commit all"
   ]
  },
  {
   "cell_type": "code",
   "execution_count": 3,
   "id": "87699a77",
   "metadata": {
    "kernel": "Bash"
   },
   "outputs": [],
   "source": [
    "git add -A"
   ]
  },
  {
   "cell_type": "code",
   "execution_count": 4,
   "id": "a648f3cd",
   "metadata": {
    "kernel": "Bash"
   },
   "outputs": [
    {
     "name": "stdout",
     "output_type": "stream",
     "text": [
      "Python Validation Successful\n",
      "[WARN] Non-allowed remote URL in the repo: git@github.com:trautw/notebooks.git\n",
      "cwd /Users/c.trautwein/Projekte/notebooks\n",
      "config_ini_file /Users/c.trautwein/.acn-security-tools/config/private/private_secrets_dictionary.ini\n",
      "[main 14f547f] commit Fr 17 Jun 2022 11:39:13 CEST\n",
      " 3 files changed, 226 insertions(+), 22 deletions(-)\n",
      " create mode 100644 .ipynb_checkpoints/Jupyter Setup-checkpoint.ipynb\n",
      " create mode 100644 Jupyter Setup.ipynb\n"
     ]
    }
   ],
   "source": [
    "git commit -m \"$COMMIT_MESSAGE\""
   ]
  },
  {
   "cell_type": "code",
   "execution_count": 5,
   "id": "fba27402",
   "metadata": {
    "kernel": "Bash"
   },
   "outputs": [
    {
     "name": "stdout",
     "output_type": "stream",
     "text": [
      "Enumerating objects: 8, done.\n",
      "Counting objects: 100% (8/8), done.\n",
      "Delta compression using up to 8 threads\n",
      "Compressing objects: 100% (5/5), done.\n",
      "Writing objects: 100% (5/5), 1.53 KiB | 1.53 MiB/s, done.\n",
      "Total 5 (delta 1), reused 0 (delta 0), pack-reused 0\n",
      "remote: Resolving deltas: 100% (1/1), completed with 1 local object.\u001b[K\n",
      "To github.com:trautw/notebooks.git\n",
      "   80d9e16..14f547f  main -> main\n"
     ]
    }
   ],
   "source": [
    "git push"
   ]
  },
  {
   "cell_type": "code",
   "execution_count": null,
   "id": "cf24c95f",
   "metadata": {
    "kernel": "Bash"
   },
   "outputs": [],
   "source": []
  }
 ],
 "metadata": {
  "kernelspec": {
   "display_name": "SoS",
   "language": "sos",
   "name": "sos"
  },
  "language_info": {
   "codemirror_mode": "sos",
   "file_extension": ".sos",
   "mimetype": "text/x-sos",
   "name": "sos",
   "nbconvert_exporter": "sos_notebook.converter.SoS_Exporter",
   "pygments_lexer": "sos"
  },
  "sos": {
   "kernels": [
    [
     "Bash",
     "bash",
     "Bash",
     "#E6EEFF",
     "shell"
    ],
    [
     "ssh",
     "ssh",
     "Bash",
     "#E6EEFF",
     "shell"
    ]
   ],
   "panel": {
    "displayed": true,
    "height": 0
   },
   "version": "0.23.3"
  }
 },
 "nbformat": 4,
 "nbformat_minor": 5
}
