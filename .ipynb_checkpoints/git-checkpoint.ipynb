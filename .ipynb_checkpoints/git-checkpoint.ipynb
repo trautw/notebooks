{
 "cells": [
  {
   "cell_type": "markdown",
   "id": "04b633d8",
   "metadata": {
    "kernel": "ssh"
   },
   "source": [
    "# Experiment 1"
   ]
  },
  {
   "cell_type": "code",
   "execution_count": 2,
   "id": "0c06dca1",
   "metadata": {
    "kernel": "Bash"
   },
   "outputs": [
    {
     "name": "stdout",
     "output_type": "stream",
     "text": [
      "AMAC02ZK457LVDL\n"
     ]
    }
   ],
   "source": [
    "hostname"
   ]
  },
  {
   "cell_type": "code",
   "execution_count": 3,
   "id": "33ff095a",
   "metadata": {
    "kernel": "ssh"
   },
   "outputs": [
    {
     "name": "stdout",
     "output_type": "stream",
     "text": [
      "[ssh] Login to u1...\n",
      "[ssh] host=u1 hostname=u1.skweg24.chtw.de other_conf={'user': 'trautw', 'port': 22, 'keyfile': ['/Users/c.trautwein/.ssh/identity'], 'load_system_ssh_config': False, 'missing_host_policy': <paramiko.client.WarningPolicy object at 0x111140400>}\n",
      "[ssh] forwarding local agent\n",
      "[ssh] Successfully logged in.\n"
     ]
    }
   ],
   "source": [
    "%login u1"
   ]
  },
  {
   "cell_type": "code",
   "execution_count": 4,
   "id": "72658ae8",
   "metadata": {
    "kernel": "ssh",
    "scrolled": false
   },
   "outputs": [
    {
     "name": "stdout",
     "output_type": "stream",
     "text": [
      "[ssh] host = u1, cwd = /home/trautw\n",
      "u1\n"
     ]
    }
   ],
   "source": [
    "hostname"
   ]
  },
  {
   "cell_type": "markdown",
   "id": "03a41855",
   "metadata": {
    "kernel": "ssh"
   },
   "source": [
    "# Commit"
   ]
  },
  {
   "cell_type": "code",
   "execution_count": 15,
   "id": "cfbffb8a",
   "metadata": {
    "kernel": "Bash",
    "scrolled": true
   },
   "outputs": [
    {
     "name": "stdout",
     "output_type": "stream",
     "text": [
      "On branch main\n",
      "Your branch is up to date with 'origin/main'.\n",
      "\n",
      "Changes not staged for commit:\n",
      "  (use \"git add <file>...\" to update what will be committed)\n",
      "  (use \"git restore <file>...\" to discard changes in working directory)\n",
      "\t\u001b[31mmodified:   .ipynb_checkpoints/sos-checkpoint.ipynb\u001b[m\n",
      "\t\u001b[31mmodified:   sos.ipynb\u001b[m\n",
      "\n",
      "no changes added to commit (use \"git add\" and/or \"git commit -a\")\n"
     ]
    }
   ],
   "source": [
    "git status"
   ]
  },
  {
   "cell_type": "code",
   "execution_count": 16,
   "id": "9838e272",
   "metadata": {
    "kernel": "Bash"
   },
   "outputs": [],
   "source": [
    "git add -A"
   ]
  },
  {
   "cell_type": "code",
   "execution_count": 17,
   "id": "93d15e95",
   "metadata": {
    "kernel": "Bash"
   },
   "outputs": [
    {
     "name": "stdout",
     "output_type": "stream",
     "text": [
      "Python Validation Successful\n",
      "[WARN] Non-allowed remote URL in the repo: git@github.com:trautw/notebooks.git\n",
      "cwd /Users/c.trautwein/Projekte/notebooks\n",
      "config_ini_file /Users/c.trautwein/.acn-security-tools/config/private/private_secrets_dictionary.ini\n",
      "[main 6412b98] .\n",
      " 2 files changed, 164 insertions(+), 16 deletions(-)\n"
     ]
    }
   ],
   "source": [
    "git commit -m \".\""
   ]
  },
  {
   "cell_type": "code",
   "execution_count": 18,
   "id": "f7bcc83b",
   "metadata": {
    "kernel": "Bash"
   },
   "outputs": [
    {
     "name": "stdout",
     "output_type": "stream",
     "text": [
      "Enumerating objects: 7, done.\n",
      "Counting objects: 100% (7/7), done.\n",
      "Delta compression using up to 8 threads\n",
      "Compressing objects: 100% (3/3), done.\n",
      "Writing objects: 100% (4/4), 1.75 KiB | 1.75 MiB/s, done.\n",
      "Total 4 (delta 1), reused 0 (delta 0), pack-reused 0\n",
      "remote: Resolving deltas: 100% (1/1), completed with 1 local object.\u001b[K\n",
      "To github.com:trautw/notebooks.git\n",
      "   08ec207..6412b98  main -> main\n"
     ]
    }
   ],
   "source": [
    "git push"
   ]
  },
  {
   "cell_type": "code",
   "execution_count": null,
   "id": "b1658760",
   "metadata": {
    "kernel": "Bash"
   },
   "outputs": [],
   "source": []
  }
 ],
 "metadata": {
  "kernelspec": {
   "display_name": "SoS",
   "language": "sos",
   "name": "sos"
  },
  "language_info": {
   "codemirror_mode": "sos",
   "file_extension": ".sos",
   "mimetype": "text/x-sos",
   "name": "sos",
   "nbconvert_exporter": "sos_notebook.converter.SoS_Exporter",
   "pygments_lexer": "sos"
  },
  "sos": {
   "kernels": [
    [
     "Bash",
     "bash",
     "Bash",
     "#E6EEFF",
     "shell"
    ],
    [
     "ssh",
     "ssh",
     "Bash",
     "#E6EEFF",
     "shell"
    ]
   ],
   "panel": {
    "displayed": true,
    "height": 0
   },
   "version": "0.23.3"
  }
 },
 "nbformat": 4,
 "nbformat_minor": 5
}
