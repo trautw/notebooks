{
 "cells": [
  {
   "cell_type": "markdown",
   "id": "a389dcd3",
   "metadata": {},
   "source": [
    "# Git"
   ]
  },
  {
   "cell_type": "code",
   "execution_count": 1,
   "id": "be7a8fe9",
   "metadata": {},
   "outputs": [],
   "source": [
    "COMMIT_MESSAGE=\"commit `date`\""
   ]
  },
  {
   "cell_type": "markdown",
   "id": "7f8c2aac",
   "metadata": {},
   "source": [
    "## Status"
   ]
  },
  {
   "cell_type": "code",
   "execution_count": 2,
   "id": "298fc857",
   "metadata": {
    "scrolled": false
   },
   "outputs": [
    {
     "name": "stdout",
     "output_type": "stream",
     "text": [
      "On branch main\n",
      "Your branch is up to date with 'origin/main'.\n",
      "\n",
      "Changes not staged for commit:\n",
      "  (use \"git add <file>...\" to update what will be committed)\n",
      "  (use \"git restore <file>...\" to discard changes in working directory)\n",
      "\t\u001b[31mmodified:   git.ipynb\u001b[m\n",
      "\n",
      "Untracked files:\n",
      "  (use \"git add <file>...\" to include in what will be committed)\n",
      "\t\u001b[31m.ipynb_checkpoints/IDE-checkpoint.ipynb\u001b[m\n",
      "\t\u001b[31m.ipynb_checkpoints/Untitled-checkpoint.ipynb\u001b[m\n",
      "\t\u001b[31mIDE.ipynb\u001b[m\n",
      "\t\u001b[31mUntitled.ipynb\u001b[m\n",
      "\n",
      "no changes added to commit (use \"git add\" and/or \"git commit -a\")\n"
     ]
    }
   ],
   "source": [
    "git status"
   ]
  },
  {
   "cell_type": "markdown",
   "id": "946ba419",
   "metadata": {},
   "source": [
    "## Commit All"
   ]
  },
  {
   "cell_type": "code",
   "execution_count": null,
   "id": "f16743af",
   "metadata": {},
   "outputs": [],
   "source": [
    "git add -A\n",
    "git commit -m \"$COMMIT_MESSAGE\"\n",
    "git push"
   ]
  }
 ],
 "metadata": {
  "kernelspec": {
   "display_name": "Bash",
   "language": "bash",
   "name": "bash"
  },
  "language_info": {
   "codemirror_mode": "shell",
   "file_extension": ".sh",
   "mimetype": "text/x-sh",
   "name": "bash"
  }
 },
 "nbformat": 4,
 "nbformat_minor": 5
}
